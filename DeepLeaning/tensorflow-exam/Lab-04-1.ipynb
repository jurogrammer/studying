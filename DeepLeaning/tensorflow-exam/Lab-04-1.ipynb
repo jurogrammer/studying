{
 "cells": [
  {
   "cell_type": "code",
   "execution_count": 1,
   "metadata": {},
   "outputs": [
    {
     "name": "stdout",
     "output_type": "stream",
     "text": [
      "2.3.1\n"
     ]
    }
   ],
   "source": [
    "import tensorflow as tf\n",
    "import numpy as np\n",
    "\n",
    "print(tf.__version__)"
   ]
  },
  {
   "cell_type": "code",
   "execution_count": 11,
   "metadata": {},
   "outputs": [],
   "source": [
    "tf.random.set_seed(0)  # for reproducibility"
   ]
  },
  {
   "cell_type": "code",
   "execution_count": 13,
   "metadata": {},
   "outputs": [
    {
     "name": "stdout",
     "output_type": "stream",
     "text": [
      "    0 | 966.489624 |    -6.3849 |    -9.6386 |  -1.997182\n",
      "   50 | 290.719482 |    -2.5520 |    -6.0406 |   0.083186\n",
      "  100 |  97.416336 |    -0.8520 |    -3.7830 |   1.185548\n",
      "  150 |  36.060600 |    -0.1155 |    -2.3524 |   1.777458\n",
      "  200 |  14.622516 |     0.1927 |    -1.4381 |   2.096439\n",
      "  250 |   6.551729 |     0.3151 |    -0.8494 |   2.265759\n",
      "  300 |   3.350713 |     0.3601 |    -0.4675 |   2.350938\n",
      "  350 |   2.032307 |     0.3750 |    -0.2176 |   2.387711\n",
      "  400 |   1.469417 |     0.3797 |    -0.0524 |   2.396086\n",
      "  450 |   1.216593 |     0.3823 |     0.0583 |   2.387553\n",
      "  500 |   1.092846 |     0.3854 |     0.1338 |   2.368865\n",
      "  550 |   1.023482 |     0.3899 |     0.1865 |   2.344070\n",
      "  600 |   0.977404 |     0.3956 |     0.2244 |   2.315640\n",
      "  650 |   0.941599 |     0.4023 |     0.2527 |   2.285101\n",
      "  700 |   0.910600 |     0.4097 |     0.2748 |   2.253407\n",
      "  750 |   0.882098 |     0.4175 |     0.2927 |   2.221159\n",
      "  800 |   0.855110 |     0.4255 |     0.3080 |   2.188733\n",
      "  850 |   0.829210 |     0.4337 |     0.3214 |   2.156371\n",
      "  900 |   0.804204 |     0.4420 |     0.3335 |   2.124223\n",
      "  950 |   0.779998 |     0.4502 |     0.3448 |   2.092385\n",
      " 1000 |   0.756540 |     0.4584 |     0.3556 |   2.060913\n"
     ]
    }
   ],
   "source": [
    "x1_data = [1, 0, 3, 0, 5]\n",
    "x2_data = [0, 2, 0, 4, 0]\n",
    "y_data = [1, 2, 3, 4, 5]\n",
    "\n",
    "W1 = tf.Variable(tf.random.uniform((1,), -10.0, 10.0))\n",
    "W2 = tf.Variable(tf.random.uniform((1,), -10.0, 10.0))\n",
    "b  = tf.Variable(tf.random.uniform((1,), -10.0, 10.0))\n",
    "\n",
    "learning_rate = tf.Variable(0.001)\n",
    "\n",
    "for i in range(1000+1):\n",
    "    with tf.GradientTape() as tape:\n",
    "        hypothesis = W1 * x1_data + W2 * x2_data + b\n",
    "        cost = tf.reduce_mean(tf.square(hypothesis - y_data))\n",
    "    W1_grad, W2_grad, b_grad = tape.gradient(cost, [W1, W2, b])\n",
    "    W1.assign_sub(learning_rate * W1_grad)\n",
    "    W2.assign_sub(learning_rate * W2_grad)\n",
    "    b.assign_sub(learning_rate * b_grad)\n",
    "    \n",
    "    if i % 50 == 0:\n",
    "        print(\"{:5} | {:10.6f} | {:10.4f} | {:10.4f} | {:10.6f}\".format(\n",
    "        i, cost.numpy(), W1.numpy()[0], W2.numpy()[0], b.numpy()[0]))"
   ]
  },
  {
   "cell_type": "code",
   "execution_count": 15,
   "metadata": {},
   "outputs": [
    {
     "name": "stdout",
     "output_type": "stream",
     "text": [
      "    0 |  24.553152 |    -0.8860 |    -0.5956 |     0.9471\n",
      "   50 |   5.404427 |    -0.6144 |     0.3053 |     1.0368\n",
      "  100 |   1.204501 |    -0.4842 |     0.7263 |     1.0780\n",
      "  150 |   0.282872 |    -0.4201 |     0.9227 |     1.0966\n",
      "  200 |   0.080195 |    -0.3872 |     1.0139 |     1.1045\n",
      "  250 |   0.035202 |    -0.3689 |     1.0558 |     1.1073\n",
      "  300 |   0.024805 |    -0.3575 |     1.0747 |     1.1078\n",
      "  350 |   0.022011 |    -0.3493 |     1.0828 |     1.1072\n",
      "  400 |   0.020901 |    -0.3427 |     1.0859 |     1.1060\n",
      "  450 |   0.020174 |    -0.3369 |     1.0866 |     1.1047\n",
      "  500 |   0.019546 |    -0.3315 |     1.0862 |     1.1032\n",
      "  550 |   0.018954 |    -0.3264 |     1.0854 |     1.1017\n",
      "  600 |   0.018383 |    -0.3214 |     1.0843 |     1.1002\n",
      "  650 |   0.017830 |    -0.3165 |     1.0831 |     1.0987\n",
      "  700 |   0.017295 |    -0.3117 |     1.0819 |     1.0972\n",
      "  750 |   0.016775 |    -0.3070 |     1.0807 |     1.0957\n",
      "  800 |   0.016271 |    -0.3023 |     1.0795 |     1.0943\n",
      "  850 |   0.015782 |    -0.2977 |     1.0783 |     1.0929\n",
      "  900 |   0.015307 |    -0.2932 |     1.0771 |     1.0914\n",
      "  950 |   0.014847 |    -0.2888 |     1.0759 |     1.0901\n",
      " 1000 |   0.014401 |    -0.2844 |     1.0748 |     1.0887\n"
     ]
    }
   ],
   "source": [
    "x_data = [\n",
    "    [1., 1., 1., 1., 1.,],\n",
    "    [1., 0., 3., 0., 5.,],\n",
    "    [0., 2., 0., 4., 0.,]\n",
    "]\n",
    "\n",
    "y_data = [1,2,3,4,5]\n",
    "\n",
    "W = tf.Variable(tf.random.uniform((1,3), -1.0, 1.0))\n",
    "\n",
    "learning_rate = 0.001\n",
    "optimizer = tf.keras.optimizers.SGD(learning_rate)\n",
    "\n",
    "for i in range(1000+1):\n",
    "    with tf.GradientTape() as tape:\n",
    "        hypothesis = tf.matmul(W, x_data)\n",
    "        cost = tf.reduce_mean(tf.square(hypothesis - y_data))\n",
    "    \n",
    "    grads = tape.gradient(cost, [W])\n",
    "    optimizer.apply_gradients(grads_and_vars=zip(grads,[W]))\n",
    "    if i% 50 == 0:\n",
    "        print(\"{:5} | {:10.6f} | {:10.4f} | {:10.4f} | {:10.4f}\".format(\n",
    "            i, cost.numpy(), W.numpy()[0][0], W.numpy()[0][1], W.numpy()[0][2]))"
   ]
  },
  {
   "cell_type": "code",
   "execution_count": 23,
   "metadata": {},
   "outputs": [
    {
     "name": "stdout",
     "output_type": "stream",
     "text": [
      "epoch | cost\n",
      "    0 |   3.664075\n",
      "   50 |   0.210658\n",
      "  100 |   0.144028\n",
      "  150 |   0.098474\n",
      "  200 |   0.067327\n",
      "  250 |   0.046032\n",
      "  300 |   0.031473\n",
      "  350 |   0.021518\n",
      "  400 |   0.014712\n",
      "  450 |   0.010059\n",
      "  500 |   0.006877\n",
      "  550 |   0.004702\n",
      "  600 |   0.003215\n",
      "  650 |   0.002198\n",
      "  700 |   0.001503\n",
      "  750 |   0.001027\n",
      "  800 |   0.000703\n",
      "  850 |   0.000480\n",
      "  900 |   0.000328\n",
      "  950 |   0.000225\n",
      " 1000 |   0.000154\n"
     ]
    }
   ],
   "source": [
    "X = tf.constant([[1., 2.], \n",
    "                 [3., 4.]])\n",
    "y = tf.constant([[1.5], [3.5]])\n",
    "\n",
    "W = tf.Variable(tf.random.normal((2, 1)))\n",
    "b = tf.Variable(tf.random.normal((1,)))\n",
    "\n",
    "# Create an optimizer\n",
    "optimizer = tf.keras.optimizers.SGD(learning_rate=0.01)\n",
    "\n",
    "n_epoch = 1000+1\n",
    "print(\"epoch | cost\")\n",
    "for i in range(n_epoch):\n",
    "    with tf.GradientTape() as tape:\n",
    "        y_pred = tf.matmul(X, W) + b\n",
    "        cost = tf.reduce_mean(tf.square(y_pred - y))\n",
    "    \n",
    "    grads = tape.gradient(cost, [W, b])\n",
    "    \n",
    "    optimizer.apply_gradients(grads_and_vars=zip(grads, [W, b]))\n",
    "    if i% 50 == 0:\n",
    "        print(\"{:5} | {:10.6f}\".format(i, cost.numpy()))"
   ]
  },
  {
   "cell_type": "code",
   "execution_count": 24,
   "metadata": {},
   "outputs": [],
   "source": [
    "tf.random.set_seed(0)"
   ]
  },
  {
   "cell_type": "code",
   "execution_count": 27,
   "metadata": {},
   "outputs": [
    {
     "name": "stdout",
     "output_type": "stream",
     "text": [
      "    0 | 5793889.5000\n",
      "   50 |   64291.1562\n",
      "  100 |     715.2903\n",
      "  150 |       9.8461\n",
      "  200 |       2.0152\n",
      "  250 |       1.9252\n",
      "  300 |       1.9210\n",
      "  350 |       1.9177\n",
      "  400 |       1.9145\n",
      "  450 |       1.9114\n",
      "  500 |       1.9081\n",
      "  550 |       1.9050\n",
      "  600 |       1.9018\n",
      "  650 |       1.8986\n",
      "  700 |       1.8955\n",
      "  750 |       1.8923\n",
      "  800 |       1.8892\n",
      "  850 |       1.8861\n",
      "  900 |       1.8829\n",
      "  950 |       1.8798\n",
      " 1000 |       1.8767\n"
     ]
    }
   ],
   "source": [
    "# data and label\n",
    "x1 = [ 73.,  93.,  89.,  96.,  73.]\n",
    "x2 = [ 80.,  88.,  91.,  98.,  66.]\n",
    "x3 = [ 75.,  93.,  90., 100.,  70.]\n",
    "Y  = [152., 185., 180., 196., 142.]\n",
    "\n",
    "# weights\n",
    "w1 = tf.Variable(10.)\n",
    "w2 = tf.Variable(10.)\n",
    "w3 = tf.Variable(10.)\n",
    "b  = tf.Variable(10.)\n",
    "\n",
    "learning_rate = 0.000001\n",
    "\n",
    "for i in range(1000+1):\n",
    "    # tf.GradientTape() to record the gradient of the cost function\n",
    "    with tf.GradientTape() as tape:\n",
    "        hypothesis = w1 * x1 +  w2 * x2 + w3 * x3 + b\n",
    "        cost = tf.reduce_mean(tf.square(hypothesis - Y))\n",
    "    # calculates the gradients of the cost\n",
    "    w1_grad, w2_grad, w3_grad, b_grad = tape.gradient(cost, [w1, w2, w3, b])\n",
    "    \n",
    "    # update w1,w2,w3 and b\n",
    "    w1.assign_sub(learning_rate * w1_grad)\n",
    "    w2.assign_sub(learning_rate * w2_grad)\n",
    "    w3.assign_sub(learning_rate * w3_grad)\n",
    "    b.assign_sub(learning_rate * b_grad)\n",
    "\n",
    "    if i % 50 == 0:\n",
    "      print(\"{:5} | {:12.4f}\".format(i, cost.numpy()))"
   ]
  },
  {
   "cell_type": "code",
   "execution_count": 28,
   "metadata": {},
   "outputs": [
    {
     "name": "stdout",
     "output_type": "stream",
     "text": [
      "    0 |    3528.1030\n",
      "   50 |      92.7332\n",
      "  100 |      54.4777\n",
      "  150 |      53.9173\n",
      "  200 |      53.7753\n",
      "  250 |      53.6384\n",
      "  300 |      53.5022\n",
      "  350 |      53.3662\n",
      "  400 |      53.2305\n",
      "  450 |      53.0953\n",
      "  500 |      52.9603\n",
      "  550 |      52.8258\n",
      "  600 |      52.6917\n",
      "  650 |      52.5578\n",
      "  700 |      52.4243\n",
      "  750 |      52.2911\n",
      "  800 |      52.1583\n",
      "  850 |      52.0259\n",
      "  900 |      51.8939\n",
      "  950 |      51.7621\n",
      " 1000 |      51.6306\n"
     ]
    }
   ],
   "source": [
    "# data and label\n",
    "x1 = [ 73.,  93.,  89.,  96.,  73.]\n",
    "x2 = [ 80.,  88.,  91.,  98.,  66.]\n",
    "x3 = [ 75.,  93.,  90., 100.,  70.]\n",
    "Y  = [152., 185., 180., 196., 142.]\n",
    "\n",
    "# random weights\n",
    "w1 = tf.Variable(tf.random.normal((1,)))\n",
    "w2 = tf.Variable(tf.random.normal((1,)))\n",
    "w3 = tf.Variable(tf.random.normal((1,)))\n",
    "b  = tf.Variable(tf.random.normal((1,)))\n",
    "\n",
    "learning_rate = 0.000001\n",
    "\n",
    "for i in range(1000+1):\n",
    "    # tf.GradientTape() to record the gradient of the cost function\n",
    "    with tf.GradientTape() as tape:\n",
    "        hypothesis = w1 * x1 +  w2 * x2 + w3 * x3 + b\n",
    "        cost = tf.reduce_mean(tf.square(hypothesis - Y))\n",
    "    # calculates the gradients of the cost\n",
    "    w1_grad, w2_grad, w3_grad, b_grad = tape.gradient(cost, [w1, w2, w3, b])\n",
    "    \n",
    "    # update w1,w2,w3 and b\n",
    "    w1.assign_sub(learning_rate * w1_grad)\n",
    "    w2.assign_sub(learning_rate * w2_grad)\n",
    "    w3.assign_sub(learning_rate * w3_grad)\n",
    "    b.assign_sub(learning_rate * b_grad)\n",
    "\n",
    "    if i % 50 == 0:\n",
    "      print(\"{:5} | {:12.4f}\".format(i, cost.numpy()))"
   ]
  },
  {
   "cell_type": "code",
   "execution_count": 31,
   "metadata": {},
   "outputs": [
    {
     "name": "stdout",
     "output_type": "stream",
     "text": [
      "epoch | cost\n",
      "    0 | 195206.6562\n",
      "  100 |    40.8115\n",
      "  200 |    16.6931\n",
      "  300 |    16.6015\n",
      "  400 |    16.5132\n",
      "  500 |    16.4254\n",
      "  600 |    16.3381\n",
      "  700 |    16.2514\n",
      "  800 |    16.1649\n",
      "  900 |    16.0791\n",
      " 1000 |    15.9937\n",
      " 1100 |    15.9088\n",
      " 1200 |    15.8243\n",
      " 1300 |    15.7403\n",
      " 1400 |    15.6566\n",
      " 1500 |    15.5736\n",
      " 1600 |    15.4908\n",
      " 1700 |    15.4087\n",
      " 1800 |    15.3268\n",
      " 1900 |    15.2455\n",
      " 2000 |    15.1645\n"
     ]
    }
   ],
   "source": [
    "data = np.array([\n",
    "    # X1,   X2,    X3,   y\n",
    "    [ 73.,  80.,  75., 152. ],\n",
    "    [ 93.,  88.,  93., 185. ],\n",
    "    [ 89.,  91.,  90., 180. ],\n",
    "    [ 96.,  98., 100., 196. ],\n",
    "    [ 73.,  66.,  70., 142. ]\n",
    "], dtype=np.float32)\n",
    "\n",
    "# slice data\n",
    "X = data[:, :-1]\n",
    "y = data[:, [-1]]\n",
    "\n",
    "W = tf.Variable(tf.random.normal((3, 1)))\n",
    "b = tf.Variable(tf.random.normal((1,)))\n",
    "\n",
    "learning_rate = 0.000001\n",
    "\n",
    "def predict(X):\n",
    "    return tf.matmul(X,W) + b\n",
    "\n",
    "print(\"epoch | cost\")\n",
    "\n",
    "n_epochs = 2000\n",
    "for i in range(n_epochs+1):\n",
    "    with tf.GradientTape() as tape:\n",
    "        cost = tf.reduce_mean((tf.square(predict(X) - y)))\n",
    "    \n",
    "    W_grad, b_grad = tape.gradient(cost, [W, b])\n",
    "\n",
    "    # updates parameters (W and b)\n",
    "    W.assign_sub(learning_rate * W_grad)\n",
    "    b.assign_sub(learning_rate * b_grad)\n",
    "    \n",
    "    if i % 100 == 0:\n",
    "        print(\"{:5} | {:10.4f}\".format(i, cost.numpy()))"
   ]
  },
  {
   "cell_type": "code",
   "execution_count": 32,
   "metadata": {},
   "outputs": [
    {
     "data": {
      "text/plain": [
       "array([[0.25667503],\n",
       "       [1.2582879 ],\n",
       "       [0.5000149 ]], dtype=float32)"
      ]
     },
     "execution_count": 32,
     "metadata": {},
     "output_type": "execute_result"
    }
   ],
   "source": [
    "W.numpy()"
   ]
  },
  {
   "cell_type": "code",
   "execution_count": 33,
   "metadata": {},
   "outputs": [
    {
     "data": {
      "text/plain": [
       "array([-0.13203251], dtype=float32)"
      ]
     },
     "execution_count": 33,
     "metadata": {},
     "output_type": "execute_result"
    }
   ],
   "source": [
    "b.numpy()"
   ]
  },
  {
   "cell_type": "code",
   "execution_count": 34,
   "metadata": {},
   "outputs": [
    {
     "data": {
      "text/plain": [
       "<tf.Tensor: shape=(5, 1), dtype=float32, numpy=\n",
       "array([[156.7694 ],\n",
       "       [180.96947],\n",
       "       [182.21758],\n",
       "       [197.82248],\n",
       "       [136.65329]], dtype=float32)>"
      ]
     },
     "execution_count": 34,
     "metadata": {},
     "output_type": "execute_result"
    }
   ],
   "source": [
    "tf.matmul(X, W) + b"
   ]
  },
  {
   "cell_type": "code",
   "execution_count": 35,
   "metadata": {},
   "outputs": [
    {
     "data": {
      "text/plain": [
       "[152.0, 185.0, 180.0, 196.0, 142.0]"
      ]
     },
     "execution_count": 35,
     "metadata": {},
     "output_type": "execute_result"
    }
   ],
   "source": [
    "Y"
   ]
  },
  {
   "cell_type": "code",
   "execution_count": 36,
   "metadata": {},
   "outputs": [
    {
     "data": {
      "text/plain": [
       "array([[156.7694 ],\n",
       "       [180.96947],\n",
       "       [182.21758],\n",
       "       [197.82248],\n",
       "       [136.65329]], dtype=float32)"
      ]
     },
     "execution_count": 36,
     "metadata": {},
     "output_type": "execute_result"
    }
   ],
   "source": [
    "predict(X).numpy()"
   ]
  },
  {
   "cell_type": "code",
   "execution_count": 37,
   "metadata": {},
   "outputs": [
    {
     "data": {
      "text/plain": [
       "array([[188.25078],\n",
       "       [179.69243]], dtype=float32)"
      ]
     },
     "execution_count": 37,
     "metadata": {},
     "output_type": "execute_result"
    }
   ],
   "source": [
    "predict([[89., 95., 92.],[84., 92., 85.]]).numpy()"
   ]
  },
  {
   "cell_type": "code",
   "execution_count": null,
   "metadata": {},
   "outputs": [],
   "source": []
  }
 ],
 "metadata": {
  "kernelspec": {
   "display_name": "tensorflow",
   "language": "python",
   "name": "tf"
  },
  "language_info": {
   "codemirror_mode": {
    "name": "ipython",
    "version": 3
   },
   "file_extension": ".py",
   "mimetype": "text/x-python",
   "name": "python",
   "nbconvert_exporter": "python",
   "pygments_lexer": "ipython3",
   "version": "3.7.9"
  }
 },
 "nbformat": 4,
 "nbformat_minor": 4
}
